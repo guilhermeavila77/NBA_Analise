{
  "nbformat": 4,
  "nbformat_minor": 0,
  "metadata": {
    "colab": {
      "name": "Analise college NBA.ipynb",
      "provenance": [],
      "mount_file_id": "16JZad7hlM1MjXuzY250eZqLAhNCua6h8",
      "authorship_tag": "ABX9TyM22yuIvFR7dzKGm1kNidRj",
      "include_colab_link": true
    },
    "kernelspec": {
      "name": "python3",
      "display_name": "Python 3"
    },
    "language_info": {
      "name": "python"
    }
  },
  "cells": [
    {
      "cell_type": "markdown",
      "metadata": {
        "id": "view-in-github",
        "colab_type": "text"
      },
      "source": [
        "<a href=\"https://colab.research.google.com/github/guilhermeavila77/NBA_Analise/blob/main/Analise_college_NBA.ipynb\" target=\"_parent\"><img src=\"https://colab.research.google.com/assets/colab-badge.svg\" alt=\"Open In Colab\"/></a>"
      ]
    },
    {
      "cell_type": "markdown",
      "source": [
        "#🏀 **Analise de dados relacionada as stats e performace dos jogadores da NBA **\n",
        "\n",
        "- Principal objetivo: Descobrir quais \"Coleges\" formam melhores jogadores \n",
        "\n",
        "Fonte base de dados: https://www.kaggle.com/datasets/drgilermo/nba-players-stats\n"
      ],
      "metadata": {
        "id": "tkbXjy2uhjgC"
      }
    },
    {
      "cell_type": "markdown",
      "source": [
        "- Passo 1: Importar a base de dados e visualizar as tabelas\n",
        "- Passo 2: Tratar a base de dados e deixar apenas as informações relevantes\n",
        "- Passo 3: Analizar os resultados \n",
        "- Passo 4: Construir uma analise concreta\n",
        "\n",
        "- Passo final: Definir qual colege melhor revela jogadores "
      ],
      "metadata": {
        "id": "IhxIyumFi-ix"
      }
    },
    {
      "cell_type": "markdown",
      "source": [
        "# Importando e visualizando a base de dados"
      ],
      "metadata": {
        "id": "h7O23xqYjtDf"
      }
    },
    {
      "cell_type": "code",
      "execution_count": null,
      "metadata": {
        "id": "LhhRQ7S2dKm5"
      },
      "outputs": [],
      "source": [
        "import pandas as pd \n",
        "\n",
        "tb_players = pd.read_csv(\"/content/drive/MyDrive/NBA analise players/Players.csv\", encoding=\"latin1\")\n",
        "tb_data = pd.read_csv(\"/content/drive/MyDrive/NBA analise players/player_data.csv\", encoding=\"latin1\")\n",
        "\n",
        "display(tb_players)\n",
        "display(tb_data)"
      ]
    },
    {
      "cell_type": "markdown",
      "source": [
        "# Tratando os dados deixando apenas o necessario"
      ],
      "metadata": {
        "id": "pOJExjQcmyXq"
      }
    },
    {
      "cell_type": "markdown",
      "source": [
        " - tabela \"Players\""
      ],
      "metadata": {
        "id": "Kpid88pXoTtS"
      }
    },
    {
      "cell_type": "code",
      "source": [
        "tb_players = tb_players.drop(\"Unnamed: 0\", axis=1)\n",
        "tb_players = tb_players.drop(\"born\", axis=1)\n",
        "tb_players = tb_players.drop(\"birth_city\", axis=1)\n",
        "tb_players = tb_players.drop(\"birth_state\", axis=1)\n",
        "\n",
        "display(tb_players.info())\n",
        "display(tb_players)"
      ],
      "metadata": {
        "id": "XF0IAWHWm8G1"
      },
      "execution_count": null,
      "outputs": []
    },
    {
      "cell_type": "markdown",
      "source": [
        "- tabela \"Players data\""
      ],
      "metadata": {
        "id": "iEkCVGDXqNyR"
      }
    },
    {
      "cell_type": "code",
      "source": [
        "tb_data = tb_data.drop(\"birth_date\", axis=1)\n",
        "\n",
        "display(tb_data.info())\n",
        "display(tb_data)"
      ],
      "metadata": {
        "id": "RSCm4qvPqpaN"
      },
      "execution_count": null,
      "outputs": []
    },
    {
      "cell_type": "markdown",
      "source": [
        "# Analizar os resultados"
      ],
      "metadata": {
        "id": "3FQdhmR5rdJs"
      }
    },
    {
      "cell_type": "markdown",
      "source": [
        " - Informações de jogadores revelador pelos colleges atualmente"
      ],
      "metadata": {
        "id": "UoJDQ8biwgh3"
      }
    },
    {
      "cell_type": "code",
      "source": [
        "quant_players = tb_players[\"collage\"].value_counts()\n",
        "display(quant_players)"
      ],
      "metadata": {
        "id": "RHnOM3BCriXd"
      },
      "execution_count": null,
      "outputs": []
    },
    {
      "cell_type": "markdown",
      "source": [
        " - Informações de jogadores revelador pelos colleges"
      ],
      "metadata": {
        "id": "AamvecK7zPwu"
      }
    },
    {
      "cell_type": "code",
      "source": [
        "quant_data = tb_data[\"college\"].value_counts()\n",
        "display(quant_data)"
      ],
      "metadata": {
        "id": "sDwkr2YtzVtt"
      },
      "execution_count": null,
      "outputs": []
    },
    {
      "cell_type": "markdown",
      "source": [
        " o college que mais revelou atletas foi University of Kentuck"
      ],
      "metadata": {
        "id": "nGFG18TuGyo7"
      }
    }
  ]
}
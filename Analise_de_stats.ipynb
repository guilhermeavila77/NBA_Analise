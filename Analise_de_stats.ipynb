{
  "nbformat": 4,
  "nbformat_minor": 0,
  "metadata": {
    "colab": {
      "name": "Analise de stats.ipynb",
      "provenance": [],
      "collapsed_sections": [],
      "mount_file_id": "19t0-5VAhf383ZWNROZgJ2s0uPS2Pk_qI",
      "authorship_tag": "ABX9TyMlJrT7iHPs1p4ncT/lYk10",
      "include_colab_link": true
    },
    "kernelspec": {
      "name": "python3",
      "display_name": "Python 3"
    },
    "language_info": {
      "name": "python"
    }
  },
  "cells": [
    {
      "cell_type": "markdown",
      "metadata": {
        "id": "view-in-github",
        "colab_type": "text"
      },
      "source": [
        "<a href=\"https://colab.research.google.com/github/guilhermeavila77/NBA_Analise/blob/main/Analise_de_stats.ipynb\" target=\"_parent\"><img src=\"https://colab.research.google.com/assets/colab-badge.svg\" alt=\"Open In Colab\"/></a>"
      ]
    },
    {
      "cell_type": "markdown",
      "source": [
        "🏀 *Analise das stats dos jogadores da NBA* 🏀\n",
        "\n",
        "Realisar uma analise completa das stats dos jogadores da NBA\n",
        "\n",
        "Fonte: https://www.kaggle.com/datasets/drgilermo/nba-players-stats"
      ],
      "metadata": {
        "id": "KtZPlLlzU3mS"
      }
    },
    {
      "cell_type": "code",
      "execution_count": null,
      "metadata": {
        "id": "bgNpzqmIUyje"
      },
      "outputs": [],
      "source": [
        "import pandas as pd\n",
        "\n",
        "tabela = pd.read_csv(\"/content/drive/MyDrive/NBA analise players/Seasons_Stats.csv\")\n",
        "tabela = tabela.drop([\"Unnamed: 0\"], axis=1)\n",
        "display(tabela)"
      ]
    },
    {
      "cell_type": "code",
      "source": [
        "display(tabela.info())"
      ],
      "metadata": {
        "id": "eoP0i09uXTmW"
      },
      "execution_count": null,
      "outputs": []
    },
    {
      "cell_type": "code",
      "source": [
        "import plotly.express as px\n",
        "\n",
        "grafico = px.bar(tabela, x=\"Player\", color=\"PTS\")\n",
        "grafico.show()"
      ],
      "metadata": {
        "id": "uViZyJMYntoT"
      },
      "execution_count": null,
      "outputs": []
    },
    {
      "cell_type": "code",
      "source": [
        "tabela2 = tabela.dropna(subset=['PTS'])\n",
        "\n",
        "display(tabela2)"
      ],
      "metadata": {
        "id": "O95h4BdA9t-s"
      },
      "execution_count": null,
      "outputs": []
    },
    {
      "cell_type": "code",
      "source": [
        "tabela2.sort_values(\"PTS\", ascending=False)"
      ],
      "metadata": {
        "id": "UvWOX-ZV-qwR"
      },
      "execution_count": null,
      "outputs": []
    },
    {
      "cell_type": "code",
      "source": [
        "max = tabela2['PTS'].max()\n",
        "min = tabela2['PTS'].min()\n",
        "\n",
        "display(max,min)"
      ],
      "metadata": {
        "id": "hy7qagB_ActM"
      },
      "execution_count": null,
      "outputs": []
    },
    {
      "cell_type": "code",
      "source": [
        "quant_jogador = tabela2['Player'].nunique()\n",
        "display(quant_jogador)"
      ],
      "metadata": {
        "id": "LpuP_M3wENb9"
      },
      "execution_count": null,
      "outputs": []
    },
    {
      "cell_type": "code",
      "source": [
        "cont = 0\n",
        "soma_total_pts = 0\n",
        "\n",
        "for linha in tabela2.itertuples():\n",
        "  if linha.Player == \"Wilt Chamberlain*\":\n",
        "    soma_total_pts = linha.PTS + soma_total_pts\n",
        "display(soma_total_pts)\n"
      ],
      "metadata": {
        "id": "3JuaaDHdGsBQ"
      },
      "execution_count": null,
      "outputs": []
    },
    {
      "cell_type": "code",
      "source": [
        "newtable = tabela2.drop_duplicates(subset='Player')\n",
        "display(newtable)"
      ],
      "metadata": {
        "id": "b7WRvUj7OITi"
      },
      "execution_count": null,
      "outputs": []
    },
    {
      "cell_type": "markdown",
      "source": [
        "# Fazer a soma de todos os pontos de cada jogador e criar uma nova coluna com esses valores"
      ],
      "metadata": {
        "id": "NAmiJHRhVjrC"
      }
    },
    {
      "cell_type": "code",
      "source": [
        "player = \"\"\n",
        "contplayer = \"\"\n",
        "valortotal = 0\n",
        "total_pontos = []\n",
        "\n",
        "for linha in newtable.itertuples():\n",
        "  player = linha.Player\n",
        "  valortotal = 0\n",
        "  for linhah in tabela2.itertuples():\n",
        "    contplayer = linhah.Player\n",
        "    if player == contplayer:\n",
        "      valortotal = linhah.PTS + valortotal\n",
        "  total_pontos.append(valortotal)\n",
        "newtable['pontos'] = total_pontos"
      ],
      "metadata": {
        "id": "5dnMBVwQNHnH"
      },
      "execution_count": null,
      "outputs": []
    }
  ]
}